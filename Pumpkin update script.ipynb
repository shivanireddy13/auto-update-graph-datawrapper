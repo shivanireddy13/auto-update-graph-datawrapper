{
 "cells": [
  {
   "cell_type": "markdown",
   "id": "5c8c5b44",
   "metadata": {},
   "source": [
    "# Sample update script\n",
    "\n",
    "## Running from the command line\n",
    "\n",
    "If you are using this on GitHub Actions, note that you cannot run a `.ipynb` from the command line like a `.py` file. Run from the command line using the `jupyter nbconvert --execute` comand\n",
    "\n",
    "```\n",
    "jupyter nbconvert --to notebook --execute \"Pumpkin update script.ipynb\" --stdout\n",
    "```\n",
    "\n",
    "Usually people use `nbconvert` to convert notebooks between formats (html, markdown, Python files, etc). We use `--stdout` so that it just prints it out while the notebook is run instead of saving it as a new file.\n",
    "\n",
    "## Let's update the data!"
   ]
  },
  {
   "cell_type": "code",
   "execution_count": 7,
   "id": "c45a2d27",
   "metadata": {},
   "outputs": [],
   "source": [
    "import pandas as pd\n",
    "\n",
    "tables = pd.read_html(\"http://www.bigpumpkins.com/WeighoffResultsGPC.aspx?c=W&y=2022\")\n",
    "df = tables[3]"
   ]
  },
  {
   "cell_type": "code",
   "execution_count": 8,
   "id": "518922cc",
   "metadata": {},
   "outputs": [],
   "source": [
    "# No DMG pumpkins! No '300 Entries (25 exhibition...)' row!\n",
    "# All the good ones seem to have a number-y Place\n",
    "df = df[df.Place.str.isnumeric()]"
   ]
  },
  {
   "cell_type": "code",
   "execution_count": 9,
   "id": "b7089430",
   "metadata": {},
   "outputs": [
    {
     "name": "stderr",
     "output_type": "stream",
     "text": [
      "/var/folders/_m/b8tjbm6n4zs1q2mvjvg25x1m0000gn/T/ipykernel_28573/3651767679.py:2: SettingWithCopyWarning: \n",
      "A value is trying to be set on a copy of a slice from a DataFrame.\n",
      "Try using .loc[row_indexer,col_indexer] = value instead\n",
      "\n",
      "See the caveats in the documentation: https://pandas.pydata.org/pandas-docs/stable/user_guide/indexing.html#returning-a-view-versus-a-copy\n",
      "  df['weight'] = df['Weight (lbs)'].astype(float)\n",
      "/var/folders/_m/b8tjbm6n4zs1q2mvjvg25x1m0000gn/T/ipykernel_28573/3651767679.py:3: SettingWithCopyWarning: \n",
      "A value is trying to be set on a copy of a slice from a DataFrame.\n",
      "Try using .loc[row_indexer,col_indexer] = value instead\n",
      "\n",
      "See the caveats in the documentation: https://pandas.pydata.org/pandas-docs/stable/user_guide/indexing.html#returning-a-view-versus-a-copy\n",
      "  df['est_weight'] = df['Est. Weight'].astype(float)\n"
     ]
    }
   ],
   "source": [
    "# Convert weight into numbers\n",
    "df['weight'] = df['Weight (lbs)'].astype(float)\n",
    "df['est_weight'] = df['Est. Weight'].astype(float)"
   ]
  },
  {
   "cell_type": "code",
   "execution_count": 10,
   "id": "01db775f",
   "metadata": {},
   "outputs": [],
   "source": [
    "top_20_df = df.head(20)"
   ]
  },
  {
   "cell_type": "code",
   "execution_count": 11,
   "id": "39eb63bf",
   "metadata": {},
   "outputs": [],
   "source": [
    "top_20_df.to_csv(\"pumpkins.csv\")"
   ]
  },
  {
   "cell_type": "code",
   "execution_count": null,
   "id": "598984f9",
   "metadata": {},
   "outputs": [],
   "source": []
  }
 ],
 "metadata": {
  "kernelspec": {
   "display_name": "Python 3.11.0rc2 64-bit ('3.11.0rc2')",
   "language": "python",
   "name": "python3"
  },
  "language_info": {
   "codemirror_mode": {
    "name": "ipython",
    "version": 3
   },
   "file_extension": ".py",
   "mimetype": "text/x-python",
   "name": "python",
   "nbconvert_exporter": "python",
   "pygments_lexer": "ipython3",
   "version": "3.11.0"
  },
  "vscode": {
   "interpreter": {
    "hash": "fa7dd49bd06a4b0b734d7073ce817c8199e9056c91ac3585cf20f0427123aa55"
   }
  }
 },
 "nbformat": 4,
 "nbformat_minor": 5
}
